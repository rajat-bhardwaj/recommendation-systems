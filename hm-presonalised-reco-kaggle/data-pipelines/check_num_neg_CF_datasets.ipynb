{
 "cells": [
  {
   "cell_type": "code",
   "execution_count": 1,
   "id": "e7954674-35ed-4203-9b15-04570320a635",
   "metadata": {},
   "outputs": [
    {
     "name": "stdout",
     "output_type": "stream",
     "text": [
      "INFO: Pandarallel will run on 6 workers.\n",
      "INFO: Pandarallel will use Memory file system to transfer data between the main process and workers.\n"
     ]
    }
   ],
   "source": [
    "import gc\n",
    "from time import time\n",
    "\n",
    "from pathlib import Path\n",
    "import pandas as pd\n",
    "import numpy as np\n",
    "import random\n",
    "from tqdm import tqdm\n",
    "from pandarallel import pandarallel\n",
    "import warnings\n",
    "import _read_data_files_helper as data_files\n",
    "\n",
    "warnings.filterwarnings('ignore')\n",
    "\n",
    "# setup pandarallel\n",
    "pandarallel.initialize(progress_bar=True, nb_workers=6)\n",
    "tqdm.pandas(desc='Negative samples!')"
   ]
  },
  {
   "cell_type": "code",
   "execution_count": 2,
   "id": "9972ae39-c69c-47aa-bebe-b0b991da2315",
   "metadata": {},
   "outputs": [],
   "source": [
    "path_model_data = Path(\"\")\n",
    "path_base = Path(\"\") #original data/csv files\n",
    "path_s3 = \"CF_model_input_S3\"\n",
    "path_s1 = 'CF_model_input_neucf_S1'\n",
    "path_s2 = 'CF_model_input_neucf_S2'\n",
    "number_negative_eg = 30"
   ]
  },
  {
   "cell_type": "markdown",
   "id": "e44d5240-9ac7-44dd-8509-b1f1edf119ca",
   "metadata": {},
   "source": [
    "### Test number of negatives per week"
   ]
  },
  {
   "cell_type": "code",
   "execution_count": null,
   "id": "5a6293cc-f22d-4d7a-a58c-b216e4559711",
   "metadata": {},
   "outputs": [],
   "source": [
    "file_path = list((path_model_data / path_s3).rglob('*.parquet'))\n",
    "\n",
    "for file in file_path:\n",
    "    df_test = pd.read_parquet(file)\n",
    "    negative_count = df_test[df_test.purchase==0]\n",
    "    negative_count = negative_count.groupby(['customer_id'], as_index=False).article_id.nunique()\n",
    "    assert (negative_count.article_id !=30).sum() == 0"
   ]
  },
  {
   "cell_type": "markdown",
   "id": "078ae84c-5f57-4e47-a848-6f8eaac7fb78",
   "metadata": {},
   "source": [
    "## Negative strategy 1 & 2"
   ]
  },
  {
   "cell_type": "code",
   "execution_count": 13,
   "id": "b9c72c9e-95df-45d4-88eb-882bd9ed3601",
   "metadata": {},
   "outputs": [],
   "source": [
    "filepath_tr = list((path_model_data / path_s1).glob('train_*.parquet'))[0]\n",
    "filepath_val = list((path_model_data / path_s1).glob('val_*.parquet'))[0]\n",
    "stg_one_train = pd.read_parquet(filepath_tr)\n",
    "stg_one_val = pd.read_parquet(filepath_val)"
   ]
  },
  {
   "cell_type": "code",
   "execution_count": 17,
   "id": "0242b8d4-8eae-49f7-8477-d919e298200a",
   "metadata": {},
   "outputs": [
    {
     "data": {
      "text/plain": [
       "True"
      ]
     },
     "execution_count": 17,
     "metadata": {},
     "output_type": "execute_result"
    }
   ],
   "source": [
    "val_custs = stg_one_val.customer_id.unique()\n",
    "train_custs = stg_one_train.customer_id.unique()\n",
    "mask = np.isin(val_custs, train_custs)\n",
    "val_custs[~mask].shape[0] == 0"
   ]
  },
  {
   "cell_type": "code",
   "execution_count": 18,
   "id": "39c753dd-df7d-42b9-9500-70de6c3ece35",
   "metadata": {},
   "outputs": [],
   "source": [
    "filepath_tr = list((path_model_data / path_s2).glob('train_*.parquet'))[0]\n",
    "filepath_val = list((path_model_data / path_s2).glob('val_*.parquet'))[0]\n",
    "stg_one_train = pd.read_parquet(filepath_tr)\n",
    "stg_one_val = pd.read_parquet(filepath_val)"
   ]
  },
  {
   "cell_type": "code",
   "execution_count": 19,
   "id": "9021f076-55c3-41ad-bb5c-c5f276e6bdb2",
   "metadata": {},
   "outputs": [
    {
     "data": {
      "text/plain": [
       "True"
      ]
     },
     "execution_count": 19,
     "metadata": {},
     "output_type": "execute_result"
    }
   ],
   "source": [
    "val_custs = stg_one_val.customer_id.unique()\n",
    "train_custs = stg_one_train.customer_id.unique()\n",
    "mask = np.isin(val_custs, train_custs)\n",
    "val_custs[~mask].shape[0] == 0"
   ]
  }
 ],
 "metadata": {
  "environment": {
   "kernel": "python3",
   "name": "common-gpu.m113",
   "type": "gcloud",
   "uri": "gcr.io/deeplearning-platform-release/base-gpu:m113"
  },
  "kernelspec": {
   "display_name": "Python 3",
   "language": "python",
   "name": "python3"
  },
  "language_info": {
   "codemirror_mode": {
    "name": "ipython",
    "version": 3
   },
   "file_extension": ".py",
   "mimetype": "text/x-python",
   "name": "python",
   "nbconvert_exporter": "python",
   "pygments_lexer": "ipython3",
   "version": "3.10.13"
  }
 },
 "nbformat": 4,
 "nbformat_minor": 5
}
