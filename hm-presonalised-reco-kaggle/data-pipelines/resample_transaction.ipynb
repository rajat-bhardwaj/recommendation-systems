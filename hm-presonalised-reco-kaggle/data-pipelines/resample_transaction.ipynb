{
 "cells": [
  {
   "cell_type": "markdown",
   "id": "d27cff47-0684-4fec-9d66-03cd46fc56ef",
   "metadata": {},
   "source": [
    "## Resample transactions\n",
    "\n",
    "- the transaction data spans for multiple years where the \n",
    "    - Development set: Training and Validation; train from `2018 week-38` to `2020 Week-32`\n",
    "    - Test set: From `2020 Week-33` to `2020 Week-39`\n",
    "- Select last `n` transactions for each customer during this period to generate a smaller dataset.\n",
    "- Use this dataset to generate negative examples for each customer"
   ]
  },
  {
   "cell_type": "code",
   "execution_count": 1,
   "id": "90fd1768-1ea2-49d6-9316-790c43a5f27e",
   "metadata": {
    "tags": []
   },
   "outputs": [],
   "source": [
    "from pathlib import Path\n",
    "import pandas as pd\n",
    "import numpy as np\n",
    "import warnings\n",
    "warnings.filterwarnings('ignore')"
   ]
  },
  {
   "cell_type": "code",
   "execution_count": null,
   "id": "5167a50b-060f-4430-99b2-4d158d5060f8",
   "metadata": {
    "tags": []
   },
   "outputs": [],
   "source": [
    "import _read_data_files_helper as data_helper"
   ]
  },
  {
   "cell_type": "code",
   "execution_count": null,
   "id": "3cecda32-80c9-458a-8eb0-321fdcf4ca18",
   "metadata": {
    "tags": []
   },
   "outputs": [],
   "source": [
    "df_transactions = data_helper.read_transactions(Path(\"\"))\n",
    "n_recent_tx = 11"
   ]
  },
  {
   "cell_type": "code",
   "execution_count": null,
   "id": "4309ea6c-c91f-42bd-b92b-12107fca0ab1",
   "metadata": {
    "tags": []
   },
   "outputs": [],
   "source": [
    "max_tr_date = df_transactions[(df_transactions.tx_year == 2020) & (df_transactions.tx_week == 28)].t_dat.max()\n",
    "training_data = df_transactions[df_transactions.t_dat <= max_tr_date]"
   ]
  },
  {
   "cell_type": "code",
   "execution_count": null,
   "id": "493409c1-4874-439d-b215-085a046db7ef",
   "metadata": {
    "tags": []
   },
   "outputs": [],
   "source": [
    "## rank based on recent transactions\n",
    "training_data['rank_'] = training_data.groupby(['customer_id']).t_dat.rank(method='dense', ascending=False)"
   ]
  },
  {
   "cell_type": "code",
   "execution_count": null,
   "id": "2809c7a1-cbc9-4298-93bd-99370297ede9",
   "metadata": {
    "tags": []
   },
   "outputs": [],
   "source": [
    "tr_final = training_data[training_data.rank_ < n_recent_tx].filter(['customer_id', 'article_id']).drop_duplicates()\n",
    "tr_final['purchase'] = 1"
   ]
  },
  {
   "cell_type": "code",
   "execution_count": null,
   "id": "5379593d-93f4-4580-a62a-cf36329e9b38",
   "metadata": {
    "tags": []
   },
   "outputs": [],
   "source": [
    "tr_final.shape, training_data.shape, df_transactions.shape"
   ]
  },
  {
   "cell_type": "code",
   "execution_count": null,
   "id": "a5ab6ef8-828c-4d29-b512-03f8f0f594ca",
   "metadata": {
    "tags": []
   },
   "outputs": [],
   "source": [
    "tr_final.to_parquet(\"train_tx_last_n_active.parquet\")"
   ]
  },
  {
   "cell_type": "markdown",
   "id": "34f883ac-f8b2-44d7-8425-6215e9d2158c",
   "metadata": {},
   "source": [
    "Temp solution to reduce training data"
   ]
  },
  {
   "cell_type": "code",
   "execution_count": 10,
   "id": "b522dc50-c777-4bc0-859a-31916584ce14",
   "metadata": {
    "tags": []
   },
   "outputs": [],
   "source": [
    "from tqdm import tqdm"
   ]
  },
  {
   "cell_type": "code",
   "execution_count": 11,
   "id": "5ecf3d4c-fa00-45ec-8670-5a0e1d46903c",
   "metadata": {
    "tags": []
   },
   "outputs": [],
   "source": [
    "s1 = \"CF_model_input_neucf_S1\"\n",
    "s2 = \"CF_model_input_neucf_S2\"\n",
    "s3 = \"CF_model_input_neucf_S3\""
   ]
  },
  {
   "cell_type": "code",
   "execution_count": 12,
   "id": "66216598-486d-45f5-b60b-1adbf3241d69",
   "metadata": {
    "tags": []
   },
   "outputs": [],
   "source": [
    "path_ = Path(\"\")"
   ]
  },
  {
   "cell_type": "code",
   "execution_count": 13,
   "id": "bc05ac71-2d26-47a2-b882-05d5124cee4e",
   "metadata": {
    "tags": []
   },
   "outputs": [],
   "source": [
    "def take_subsample(dataset_):\n",
    "    positives = dataset_[dataset_.purchase == 1]\n",
    "    negatives = dataset_[dataset_.purchase == 0]\n",
    "\n",
    "    groups_ = negatives.groupby([\"customer_id\"])\n",
    "\n",
    "    df_list = []\n",
    "    for grp in tqdm(groups_):\n",
    "        df_list.append(\n",
    "            [grp[0], grp[1].article_id.sample(n=5, \n",
    "                                              replace=False)]\n",
    "     )\n",
    "\n",
    "    test_ = pd.DataFrame(df_list, columns=[\"customer_id\", \"article_id\"])\n",
    "    df_list.clear()\n",
    "    test_ = test_.explode([\"article_id\"])\n",
    "    test_[\"purchase\"] = 0\n",
    "\n",
    "    assert int(test_.shape[0] / 5) == dataset_.customer_id.nunique()\n",
    "\n",
    "    df_final = pd.concat([positives, test_]).astype(\"int32\")\n",
    "\n",
    "\n",
    "    return df_final"
   ]
  },
  {
   "cell_type": "code",
   "execution_count": 21,
   "id": "659e6e18-d7cb-405e-852b-7c082fbefccf",
   "metadata": {
    "tags": []
   },
   "outputs": [
    {
     "name": "stderr",
     "output_type": "stream",
     "text": [
      "100%|██████████| 1115557/1115557 [02:31<00:00, 7350.14it/s]\n"
     ]
    }
   ],
   "source": [
    "data_ = pd.read_parquet(path_/s3/'train_ds_stg_3.parquet')\n",
    "subsample = take_subsample(data_)\n",
    "assert subsample[subsample.purchase==0].groupby(['customer_id']).article_id.count().mean() == 5"
   ]
  },
  {
   "cell_type": "code",
   "execution_count": 22,
   "id": "6f345358-9838-430b-86f2-98f279151ebe",
   "metadata": {
    "tags": []
   },
   "outputs": [],
   "source": [
    "subsample.to_parquet(path_/s1/'train_ds_sample_stg_3.parquet')"
   ]
  },
  {
   "cell_type": "code",
   "execution_count": null,
   "id": "3dfba0dd-a4bb-4360-acc6-27fa662d40be",
   "metadata": {
    "tags": []
   },
   "outputs": [],
   "source": []
  },
  {
   "cell_type": "code",
   "execution_count": null,
   "id": "68e7962d-1d79-47d6-bb35-564ccd35d66d",
   "metadata": {},
   "outputs": [],
   "source": []
  }
 ],
 "metadata": {
  "environment": {
   "kernel": "python3",
   "name": "common-gpu.m113",
   "type": "gcloud",
   "uri": "gcr.io/deeplearning-platform-release/base-gpu:m113"
  },
  "kernelspec": {
   "display_name": "Python 3",
   "language": "python",
   "name": "python3"
  },
  "language_info": {
   "codemirror_mode": {
    "name": "ipython",
    "version": 3
   },
   "file_extension": ".py",
   "mimetype": "text/x-python",
   "name": "python",
   "nbconvert_exporter": "python",
   "pygments_lexer": "ipython3",
   "version": "3.10.13"
  }
 },
 "nbformat": 4,
 "nbformat_minor": 5
}
